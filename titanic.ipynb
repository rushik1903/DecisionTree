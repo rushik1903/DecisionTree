{
  "nbformat": 4,
  "nbformat_minor": 0,
  "metadata": {
    "colab": {
      "provenance": []
    },
    "kernelspec": {
      "name": "python3",
      "display_name": "Python 3"
    },
    "language_info": {
      "name": "python"
    }
  },
  "cells": [
    {
      "cell_type": "code",
      "execution_count": 45,
      "metadata": {
        "id": "eUxZXWZYjvoC",
        "colab": {
          "base_uri": "https://localhost:8080/"
        },
        "outputId": "3d7765e5-7bda-43d4-f196-2eec37b45ac6"
      },
      "outputs": [
        {
          "output_type": "execute_result",
          "data": {
            "text/plain": [
              "array([[1, 2, 3, ..., 97, 98, 99],\n",
              "       [0, 1, 1, ..., 0, 1, 1],\n",
              "       [3, 1, 3, ..., 1, 1, 2],\n",
              "       ...,\n",
              "       [7.25, 71.2833, 7.925, ..., 34.6542, 63.3583, 23.0],\n",
              "       [nan, 'C85', nan, ..., 'A5', 'D10 D12', nan],\n",
              "       ['S', 'C', 'S', ..., 'C', 'C', 'S']], dtype=object)"
            ]
          },
          "metadata": {},
          "execution_count": 45
        }
      ],
      "source": [
        "import numpy as np\n",
        "import pandas as pd\n",
        "import math\n",
        "\n",
        "dataFrame = pd.read_csv(\"train.csv\") \n",
        "ignorableColumns = [\"PassengerId\", \"Survived\", \"Name\", \"Ticket\", \"Cabin\"]\n",
        "ageMean = dataFrame[\"Age\"].mean()\n",
        "dataFrame[\"Age\"].fillna(ageMean, inplace=True)\n",
        "dataFrame[\"Embarked\"].fillna(\"NA\", inplace=True)\n",
        "data = dataFrame.values\n",
        "columns = dataFrame.columns\n",
        "methodDict = {'PassengerId': -1,\n",
        "              'Survived': -1,\n",
        "              'Pclass': 0,\n",
        "              'Name': -1,\n",
        "              'Sex': 0,\n",
        "              'Age': 1,\n",
        "              'SibSp': 1,\n",
        "              'Parch': 1,\n",
        "              'Ticket': -1,\n",
        "              'Fare': 1,\n",
        "              'Cabin': -1,\n",
        "              'Embarked': 0}\n",
        "methodStore = dict()\n",
        "data = np.transpose(data)\n",
        "data"
      ]
    },
    {
      "cell_type": "code",
      "source": [
        "def getIndexOfColumn(columnName, columns):\n",
        "  for i in range(len(columns)):\n",
        "    if(columns[i] == columnName):\n",
        "      return i\n",
        "  return -1"
      ],
      "metadata": {
        "id": "o0FfG7NV235o"
      },
      "execution_count": 46,
      "outputs": []
    },
    {
      "cell_type": "code",
      "source": [
        "def makeDiffclass(data, columnName, columns):\n",
        "  column = getIndexOfColumn(columnName, columns)\n",
        "  Survived = getIndexOfColumn(\"Survived\", columns)\n",
        "  unique = dataFrame[columnName].unique()\n",
        "  valsDict = dict()\n",
        "  # for columns with unique values(fixed value)\n",
        "  if(methodDict[columnName] == 0):\n",
        "    dicArr = dict()\n",
        "    for item in unique:\n",
        "      dicArr[item] = [0,0]\n",
        "    for i in range(len(data[column])):\n",
        "      if(data[Survived][i] == 1):\n",
        "        dicArr[data[column][i]][0] += 1\n",
        "      else:\n",
        "        dicArr[data[column][i]][1] += 1\n",
        "    return dicArr\n",
        "  # for columns with general numbers\n",
        "  else:\n",
        "    mean = dataFrame[columnName].mean()\n",
        "    std = dataFrame[columnName].std()\n",
        "    no_of_classes = 6\n",
        "    methodStore[columnName] = {\"mean\":mean, \"std\":std, \"no_of_classes\":no_of_classes}\n",
        "    valsDict = dict()\n",
        "    for i in range(int(no_of_classes/2) + 1):\n",
        "      # print(i)\n",
        "      valsDict[i] = [0,0]\n",
        "      valsDict[-i] = [0,0]\n",
        "    valsDict[-(no_of_classes/2)-1] = [0,0]\n",
        "    valsDict[+(no_of_classes/2)+1] = [0,0]\n",
        "    for i in range(len(data[column])):\n",
        "      itemNormalised = (data[column][i] - mean)/std\n",
        "      itemClass = math.floor(itemNormalised*(no_of_classes/2))\n",
        "      if(itemClass<-(no_of_classes/2)-1):\n",
        "        data[column][i] = -math.floor(no_of_classes/2)-1\n",
        "        if(data[Survived][i] == 1):\n",
        "          valsDict[-math.floor(no_of_classes/2)-1][0] += 1\n",
        "        else:\n",
        "          valsDict[-math.floor(no_of_classes/2)-1][1] += 1\n",
        "      elif(itemClass>(no_of_classes/2)):\n",
        "        data[column][i] = +math.floor(no_of_classes/2)+1\n",
        "        if(data[Survived][i] == 1):\n",
        "          valsDict[+math.floor(no_of_classes/2)+1][0] += 1\n",
        "        else:\n",
        "          valsDict[+math.floor(no_of_classes/2)+1][1] += 1\n",
        "      else:\n",
        "        data[column][i] = itemClass\n",
        "        if(itemClass < 0):\n",
        "          itemClass += 1\n",
        "        if(data[Survived][i] == 1):\n",
        "          valsDict[itemClass][0] += 1\n",
        "        else:\n",
        "          valsDict[itemClass][1] += 1\n",
        "    return valsDict"
      ],
      "metadata": {
        "id": "JD9NoD4KORsO"
      },
      "execution_count": 47,
      "outputs": []
    },
    {
      "cell_type": "code",
      "source": [
        "def changeAllColumns(dataFrame, data):\n",
        "  for column in dataFrame:\n",
        "    if(column in ignorableColumns):\n",
        "      continue\n",
        "    makeDiffclass(data, column, dataFrame.columns)\n",
        "changeAllColumns(dataFrame, data)"
      ],
      "metadata": {
        "id": "ZYcOZUNMM87Z"
      },
      "execution_count": 48,
      "outputs": []
    },
    {
      "cell_type": "code",
      "source": [
        "def entropyWithConditions(data, conditions, columnName):\n",
        "  column = getIndexOfColumn(columnName, columns)\n",
        "  Survived = getIndexOfColumn(\"Survived\", columns)\n",
        "  \n",
        "  dicArr = dict()\n",
        "  for i in range(len(data[0])):\n",
        "    yesRow = True\n",
        "    for key in conditions.keys():\n",
        "      # print(data[key][i], conditions[key])\n",
        "      if(data[key][i] != conditions[key]):\n",
        "        yesRow = False\n",
        "        break\n",
        "    if(yesRow):\n",
        "      if(data[Survived][i] == 1):\n",
        "        if(data[column][i] in dicArr.keys()):\n",
        "          dicArr[data[column][i]][0] += 1\n",
        "        else:\n",
        "          dicArr[data[column][i]] = [1,0]\n",
        "      else:\n",
        "        if(data[column][i] in dicArr.keys()):\n",
        "          dicArr[data[column][i]][1] += 1\n",
        "        else:\n",
        "          dicArr[data[column][i]] = [0,1]\n",
        "  return dicArr"
      ],
      "metadata": {
        "id": "vGy7grSwP7or"
      },
      "execution_count": 49,
      "outputs": []
    },
    {
      "cell_type": "code",
      "source": [
        "import math\n",
        "def findEntropy(data, conditions, column):\n",
        "  dictClasses = entropyWithConditions(data, conditions, column)\n",
        "  if(len(dictClasses.keys()) == 0):\n",
        "    return float('inf'), [1,0]\n",
        "  total = 0\n",
        "  entropy = 0\n",
        "  for key in dictClasses.keys():\n",
        "    entA = dictClasses[key][0]\n",
        "    entB = dictClasses[key][1]\n",
        "    if(entA == 0 or entB == 0):\n",
        "      tempEntropy = 0\n",
        "    else:\n",
        "      tempEntropy = (entA/(entA+entB))*math.log(entA/(entA+entB))\n",
        "    entropy += tempEntropy*(entA + entB)\n",
        "    total += (entA + entB)\n",
        "  entropy /= total\n",
        "  sur = [0,0]\n",
        "  for key in dictClasses.keys():\n",
        "    sur[0]+=dictClasses[key][0]\n",
        "    sur[1]+=dictClasses[key][1]\n",
        "  return entropy, sur"
      ],
      "metadata": {
        "id": "fCdHQIIgR42d"
      },
      "execution_count": 50,
      "outputs": []
    },
    {
      "cell_type": "code",
      "source": [
        "ageColumn = getIndexOfColumn('Age', columns)\n",
        "conditions = {\n",
        "    ageColumn:2\n",
        "}\n",
        "findEntropy(data, conditions, ageColumn)"
      ],
      "metadata": {
        "colab": {
          "base_uri": "https://localhost:8080/"
        },
        "id": "2tcpSTWFP8lX",
        "outputId": "3192210a-d6c1-4b30-cb9a-e19eb10926ae"
      },
      "execution_count": 51,
      "outputs": [
        {
          "output_type": "execute_result",
          "data": {
            "text/plain": [
              "(-0.2986265782046758, [3, 3])"
            ]
          },
          "metadata": {},
          "execution_count": 51
        }
      ]
    },
    {
      "cell_type": "code",
      "source": [
        "class Node:\n",
        "   def __init__(self, currentlyChecking = None, conditions = None, next = None, ignore = ignorableColumns, survival = [1,0]):\n",
        "      self.currentlyChecking = currentlyChecking\n",
        "      self.conditions = conditions\n",
        "      self.next = next\n",
        "      self.survival = survival\n",
        "      self.ignore = ignore\n",
        "\n",
        "class Tree:\n",
        "   def __init__(self):\n",
        "      self.headNode = None\n"
      ],
      "metadata": {
        "id": "285ZFqtwNZ-L"
      },
      "execution_count": 52,
      "outputs": []
    },
    {
      "cell_type": "code",
      "source": [
        "tree = Tree()\n",
        "conditions = dict()\n",
        "next = dict()\n",
        "startNode = Node(\"\", conditions, next)\n",
        "tree.headNode = startNode\n",
        "q = [startNode]\n",
        "\n",
        "while(len(q)>0):\n",
        "  p = q.pop(0)\n",
        "  ignore = p.ignore\n",
        "  bestColumn = \"\"\n",
        "  bestSurvival = []\n",
        "  leastEntropy = float(\"inf\")\n",
        "  for column in columns:\n",
        "    if(column in ignore):\n",
        "      continue\n",
        "    # print(column+\" \", end='')\n",
        "    temp, survival = findEntropy(data, p.conditions, column)\n",
        "    if(temp < leastEntropy):\n",
        "      leastEntropy = temp\n",
        "      bestColumn = column\n",
        "      bestSurvival = survival\n",
        "  if(bestColumn == \"\"):\n",
        "    continue\n",
        "  p.currentlyChecking = bestColumn\n",
        "  p.survival = bestSurvival\n",
        "  bestColumnNumber = getIndexOfColumn(p.currentlyChecking, columns)\n",
        "  unique = np.unique(data[bestColumnNumber])\n",
        "  for item in unique:\n",
        "    newConditions = p.conditions.copy()\n",
        "    newIgnore = ignore.copy()\n",
        "    newIgnore.append(bestColumn)\n",
        "    if(len(newIgnore) == 12):\n",
        "      continue\n",
        "    newConditions[bestColumnNumber] = item\n",
        "    newNode = Node(None, newConditions, dict(), newIgnore)\n",
        "    p.next[item] = newNode\n",
        "    q.append(newNode)\n",
        "  # print(p.next)"
      ],
      "metadata": {
        "id": "G1bALOscgxI7"
      },
      "execution_count": 53,
      "outputs": []
    },
    {
      "cell_type": "markdown",
      "source": [
        "**Testing Part**"
      ],
      "metadata": {
        "id": "ML4Xz7BQluBr"
      }
    },
    {
      "cell_type": "code",
      "source": [
        "# row = [2, ]\n",
        "# def findProbOfLivingSolo(row):\n",
        "print(methodStore)"
      ],
      "metadata": {
        "colab": {
          "base_uri": "https://localhost:8080/"
        },
        "id": "c53D9lwQVzyo",
        "outputId": "8dbe8558-562e-4821-d0f6-a813555322b7"
      },
      "execution_count": 54,
      "outputs": [
        {
          "output_type": "stream",
          "name": "stdout",
          "text": [
            "{'Age': {'mean': 27.380909090909086, 'std': 13.526974878022408, 'no_of_classes': 6}, 'SibSp': {'mean': 0.7272727272727273, 'std': 1.185096067906301, 'no_of_classes': 6}, 'Parch': {'mean': 0.4444444444444444, 'std': 0.9712418121129115, 'no_of_classes': 6}, 'Fare': {'mean': 29.553156565656565, 'std': 41.17987152284466, 'no_of_classes': 6}}\n"
          ]
        }
      ]
    },
    {
      "cell_type": "code",
      "source": [
        "dataFrame = pd.read_csv(\"test.csv\") \n",
        "ignorableColumns = [\"PassengerId\", \"Survived\", \"Name\", \"Ticket\", \"Cabin\"]\n",
        "ageMean = dataFrame[\"Age\"].mean()\n",
        "dataFrame[\"Age\"].fillna(ageMean, inplace=True)\n",
        "dataFrame[\"Embarked\"].fillna(\"NA\", inplace=True)\n",
        "fareMean = dataFrame[\"Fare\"].mean()\n",
        "dataFrame[\"Fare\"].fillna(fareMean, inplace=True)\n",
        "data = dataFrame.values\n",
        "columns = dataFrame.columns\n",
        "data = np.transpose(data)"
      ],
      "metadata": {
        "id": "dijlHH4yl9xV"
      },
      "execution_count": 55,
      "outputs": []
    },
    {
      "cell_type": "code",
      "source": [
        "def makeDiffclass2(data, columnName, columns):\n",
        "  column = getIndexOfColumn(columnName, columns)\n",
        "  Survived = getIndexOfColumn(\"Survived\", columns)\n",
        "  unique = dataFrame[columnName].unique()\n",
        "  valsDict = dict()\n",
        "  # for columns with unique values(fixed value)\n",
        "  if(methodDict[columnName] == 0):\n",
        "    dicArr = dict()\n",
        "    for item in unique:\n",
        "      dicArr[item] = [0,0]\n",
        "    for i in range(len(data[column])):\n",
        "      if(data[Survived][i] == 1):\n",
        "        dicArr[data[column][i]][0] += 1\n",
        "      else:\n",
        "        dicArr[data[column][i]][1] += 1\n",
        "    return dicArr\n",
        "  # for columns with general numbers\n",
        "  else:\n",
        "    mean = methodStore[columnName][\"mean\"]\n",
        "    std = methodStore[columnName][\"std\"]\n",
        "    no_of_classes = methodStore[columnName][\"no_of_classes\"]\n",
        "    methodStore[columnName] = {mean:mean, std:std, no_of_classes:no_of_classes}\n",
        "    valsDict = dict()\n",
        "    for i in range(int(no_of_classes/2) + 1):\n",
        "      # print(i)\n",
        "      valsDict[i] = [0,0]\n",
        "      valsDict[-i] = [0,0]\n",
        "    valsDict[-(no_of_classes/2)-1] = [0,0]\n",
        "    valsDict[+(no_of_classes/2)+1] = [0,0]\n",
        "    for i in range(len(data[column])):\n",
        "      itemNormalised = (data[column][i] - mean)/std\n",
        "      itemClass = math.floor(itemNormalised*(no_of_classes/2))\n",
        "      if(itemClass<-(no_of_classes/2)-1):\n",
        "        data[column][i] = -math.floor(no_of_classes/2)-1\n",
        "        if(data[Survived][i] == 1):\n",
        "          valsDict[-math.floor(no_of_classes/2)-1][0] += 1\n",
        "        else:\n",
        "          valsDict[-math.floor(no_of_classes/2)-1][1] += 1\n",
        "      elif(itemClass>(no_of_classes/2)):\n",
        "        data[column][i] = +math.floor(no_of_classes/2)+1\n",
        "        valsDict[+math.floor(no_of_classes/2)+1][0] += 1\n",
        "      else:\n",
        "        data[column][i] = itemClass\n",
        "        if(itemClass < 0):\n",
        "          itemClass += 1\n",
        "        valsDict[itemClass][0] += 1\n",
        "    return valsDict"
      ],
      "metadata": {
        "id": "ZR1EEFkBlLIa"
      },
      "execution_count": 56,
      "outputs": []
    },
    {
      "cell_type": "code",
      "source": [
        "def changeAllColumns2(dataFrame, data):\n",
        "  print(\"ignorableColumns\",ignorableColumns)\n",
        "  for column in dataFrame:\n",
        "    if(column in ignorableColumns):\n",
        "      continue\n",
        "    print(methodStore)\n",
        "    makeDiffclass2(data, column, dataFrame.columns)\n",
        "changeAllColumns2(dataFrame, data)\n",
        "data"
      ],
      "metadata": {
        "colab": {
          "base_uri": "https://localhost:8080/"
        },
        "id": "NPaet-jllMTu",
        "outputId": "a3bdb22e-a6b9-4564-b002-023b8c9656ca"
      },
      "execution_count": 57,
      "outputs": [
        {
          "output_type": "stream",
          "name": "stdout",
          "text": [
            "ignorableColumns ['PassengerId', 'Survived', 'Name', 'Ticket', 'Cabin']\n",
            "{'Age': {'mean': 27.380909090909086, 'std': 13.526974878022408, 'no_of_classes': 6}, 'SibSp': {'mean': 0.7272727272727273, 'std': 1.185096067906301, 'no_of_classes': 6}, 'Parch': {'mean': 0.4444444444444444, 'std': 0.9712418121129115, 'no_of_classes': 6}, 'Fare': {'mean': 29.553156565656565, 'std': 41.17987152284466, 'no_of_classes': 6}}\n",
            "{'Age': {'mean': 27.380909090909086, 'std': 13.526974878022408, 'no_of_classes': 6}, 'SibSp': {'mean': 0.7272727272727273, 'std': 1.185096067906301, 'no_of_classes': 6}, 'Parch': {'mean': 0.4444444444444444, 'std': 0.9712418121129115, 'no_of_classes': 6}, 'Fare': {'mean': 29.553156565656565, 'std': 41.17987152284466, 'no_of_classes': 6}}\n",
            "{'Age': {'mean': 27.380909090909086, 'std': 13.526974878022408, 'no_of_classes': 6}, 'SibSp': {'mean': 0.7272727272727273, 'std': 1.185096067906301, 'no_of_classes': 6}, 'Parch': {'mean': 0.4444444444444444, 'std': 0.9712418121129115, 'no_of_classes': 6}, 'Fare': {'mean': 29.553156565656565, 'std': 41.17987152284466, 'no_of_classes': 6}}\n",
            "{'Age': {27.380909090909086: 27.380909090909086, 13.526974878022408: 13.526974878022408, 6: 6}, 'SibSp': {'mean': 0.7272727272727273, 'std': 1.185096067906301, 'no_of_classes': 6}, 'Parch': {'mean': 0.4444444444444444, 'std': 0.9712418121129115, 'no_of_classes': 6}, 'Fare': {'mean': 29.553156565656565, 'std': 41.17987152284466, 'no_of_classes': 6}}\n",
            "{'Age': {27.380909090909086: 27.380909090909086, 13.526974878022408: 13.526974878022408, 6: 6}, 'SibSp': {0.7272727272727273: 0.7272727272727273, 1.185096067906301: 1.185096067906301, 6: 6}, 'Parch': {'mean': 0.4444444444444444, 'std': 0.9712418121129115, 'no_of_classes': 6}, 'Fare': {'mean': 29.553156565656565, 'std': 41.17987152284466, 'no_of_classes': 6}}\n",
            "{'Age': {27.380909090909086: 27.380909090909086, 13.526974878022408: 13.526974878022408, 6: 6}, 'SibSp': {0.7272727272727273: 0.7272727272727273, 1.185096067906301: 1.185096067906301, 6: 6}, 'Parch': {0.4444444444444444: 0.4444444444444444, 0.9712418121129115: 0.9712418121129115, 6: 6}, 'Fare': {'mean': 29.553156565656565, 'std': 41.17987152284466, 'no_of_classes': 6}}\n",
            "{'Age': {27.380909090909086: 27.380909090909086, 13.526974878022408: 13.526974878022408, 6: 6}, 'SibSp': {0.7272727272727273: 0.7272727272727273, 1.185096067906301: 1.185096067906301, 6: 6}, 'Parch': {0.4444444444444444: 0.4444444444444444, 0.9712418121129115: 0.9712418121129115, 6: 6}, 'Fare': {29.553156565656565: 29.553156565656565, 41.17987152284466: 41.17987152284466, 6: 6}}\n"
          ]
        },
        {
          "output_type": "execute_result",
          "data": {
            "text/plain": [
              "array([[101, 102, 103, ..., 889, 890, 891],\n",
              "       [0, 0, 0, ..., 0, 1, 0],\n",
              "       [3, 3, 1, ..., 3, 1, 3],\n",
              "       ...,\n",
              "       [-2, -2, 3, ..., -1, 0, -2],\n",
              "       [nan, nan, 'D26', ..., nan, 'C148', nan],\n",
              "       ['S', 'S', 'S', ..., 'S', 'C', 'Q']], dtype=object)"
            ]
          },
          "metadata": {},
          "execution_count": 57
        }
      ]
    },
    {
      "cell_type": "code",
      "source": [
        "# to look at the tree\n",
        "def dfs(node, string):\n",
        "  string = string + \" \" +str(node.currentlyChecking)\n",
        "  print(string)\n",
        "  print(len(node.next.keys()))\n",
        "  for key in node.next.keys():\n",
        "    # print(\"here\", node.next[key])\n",
        "    if(node.next[key].currentlyChecking == None):\n",
        "      print(\"///////\")\n",
        "      break\n",
        "    dfs(node.next[key], string)\n",
        "\n",
        "dfs(tree.headNode, \"\")"
      ],
      "metadata": {
        "colab": {
          "base_uri": "https://localhost:8080/"
        },
        "id": "LHCHrjfaqIcN",
        "outputId": "acf0c9e5-0d5c-4510-f5c6-6fdfdbf9cece"
      },
      "execution_count": 58,
      "outputs": [
        {
          "output_type": "stream",
          "name": "stdout",
          "text": [
            " Parch\n",
            "3\n",
            " Parch Pclass\n",
            "3\n",
            " Parch Pclass SibSp\n",
            "4\n",
            " Parch Pclass SibSp Age\n",
            "9\n",
            "///////\n",
            " Parch Pclass SibSp Embarked\n",
            "4\n",
            " Parch Pclass SibSp Embarked Fare\n",
            "7\n",
            "///////\n",
            "///////\n",
            "///////\n",
            " Parch Pclass SibSp\n",
            "4\n",
            " Parch Pclass SibSp Embarked\n",
            "4\n",
            "///////\n",
            " Parch Pclass SibSp Sex\n",
            "2\n",
            " Parch Pclass SibSp Sex Fare\n",
            "7\n",
            "///////\n",
            "///////\n",
            "///////\n",
            " Parch Pclass Fare\n",
            "7\n",
            " Parch Pclass Fare SibSp\n",
            "4\n",
            " Parch Pclass Fare SibSp Age\n",
            "9\n",
            "///////\n",
            " Parch Pclass Fare SibSp Sex\n",
            "2\n",
            " Parch Pclass Fare SibSp Sex Age\n",
            "9\n",
            "///////\n",
            " Parch Pclass Fare SibSp Sex Age\n",
            "9\n",
            "///////\n",
            " Parch Pclass Fare SibSp Sex\n",
            "2\n",
            "///////\n",
            "///////\n",
            " Parch Pclass Fare Sex\n",
            "2\n",
            " Parch Pclass Fare Sex Embarked\n",
            "4\n",
            "///////\n",
            " Parch Pclass Fare Sex Age\n",
            "9\n",
            "///////\n",
            "///////\n",
            " Parch Sex\n",
            "2\n",
            " Parch Sex Fare\n",
            "7\n",
            "///////\n",
            " Parch Sex Pclass\n",
            "3\n",
            " Parch Sex Pclass SibSp\n",
            "4\n",
            " Parch Sex Pclass SibSp Fare\n",
            "7\n",
            "///////\n",
            "///////\n",
            "///////\n",
            " Parch Embarked\n",
            "4\n",
            " Parch Embarked Pclass\n",
            "3\n",
            "///////\n",
            "///////\n"
          ]
        }
      ]
    },
    {
      "cell_type": "code",
      "source": [
        "def findPrbOfLife(randomRow = 123, maxDepth = 3):\n",
        "  curr = tree.headNode\n",
        "  for i in range(maxDepth):\n",
        "    # print(curr.currentlyChecking)\n",
        "    columnName = curr.currentlyChecking\n",
        "    columnNumber = getIndexOfColumn(columnName, columns)\n",
        "    if(len(curr.next.keys()) == 0):\n",
        "      break\n",
        "    curr = curr.next[data[columnNumber][randomRow]]\n",
        "\n",
        "  a = curr.survival\n",
        "  return a[0]/(a[0] + a[1])\n",
        "  print(\"survival chances = \", str(a[0])+'/'+str(a[0]+a[1]))"
      ],
      "metadata": {
        "id": "qruNoawKDO-M"
      },
      "execution_count": 59,
      "outputs": []
    },
    {
      "cell_type": "code",
      "source": [
        "findPrbOfLife()"
      ],
      "metadata": {
        "colab": {
          "base_uri": "https://localhost:8080/"
        },
        "id": "uTVAVsdvbnx9",
        "outputId": "f88c491f-b92e-403b-b58f-6b72edb1b462"
      },
      "execution_count": 60,
      "outputs": [
        {
          "output_type": "execute_result",
          "data": {
            "text/plain": [
              "0.3"
            ]
          },
          "metadata": {},
          "execution_count": 60
        }
      ]
    },
    {
      "cell_type": "code",
      "source": [
        "def checkWithDepth(depth = 3):\n",
        "  truePositive = 0\n",
        "  trueNegative = 0\n",
        "  falsePositive = 0\n",
        "  falseNegative = 0\n",
        "  Survived = getIndexOfColumn(\"Survived\", columns)\n",
        "  for i in range(len(data[0])):\n",
        "    try:\n",
        "      prob = findPrbOfLife(i, depth)\n",
        "    except:\n",
        "      # print(i)\n",
        "      continue\n",
        "    if(prob > 1/2):\n",
        "      if(data[Survived][i]==1):\n",
        "        truePositive+=1\n",
        "      else:\n",
        "        falsePositive+=1\n",
        "    else:\n",
        "      if(data[Survived][i]==0):\n",
        "        trueNegative+=1\n",
        "      else:\n",
        "        falseNegative+=1\n",
        "\n",
        "  total = truePositive + falsePositive + trueNegative + falseNegative\n",
        "  print(\"accuracy = \",(truePositive + trueNegative)/total)"
      ],
      "metadata": {
        "id": "kQsQNxKUb-n5"
      },
      "execution_count": 68,
      "outputs": []
    },
    {
      "cell_type": "code",
      "source": [
        "for i in range(10):\n",
        "  print(\"depth = \",i)\n",
        "  checkWithDepth(i)"
      ],
      "metadata": {
        "colab": {
          "base_uri": "https://localhost:8080/"
        },
        "id": "jqd5JtV7h4_o",
        "outputId": "efc66339-1eae-4e15-b37e-8ca0102825ed"
      },
      "execution_count": 69,
      "outputs": [
        {
          "output_type": "stream",
          "name": "stdout",
          "text": [
            "depth =  0\n",
            "accuracy =  0.6194690265486725\n",
            "depth =  1\n",
            "accuracy =  0.6194690265486725\n",
            "depth =  2\n",
            "accuracy =  0.6131479140328698\n",
            "depth =  3\n",
            "accuracy =  0.6238881829733164\n",
            "depth =  4\n",
            "accuracy =  0.6607369758576874\n",
            "depth =  5\n",
            "accuracy =  0.6645489199491741\n",
            "depth =  6\n",
            "accuracy =  0.6122448979591837\n",
            "depth =  7\n",
            "accuracy =  0.6122448979591837\n",
            "depth =  8\n",
            "accuracy =  0.6122448979591837\n",
            "depth =  9\n",
            "accuracy =  0.6122448979591837\n"
          ]
        }
      ]
    }
  ]
}